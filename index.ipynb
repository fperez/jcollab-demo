{
 "cells": [
  {
   "cell_type": "markdown",
   "id": "a0c9e9b1-19f7-4694-ba52-ee3e85e712ef",
   "metadata": {},
   "source": [
    "# A quick demo of myst features\n",
    "\n",
    "This repo contains several documents, to illustrate how to both use MyST in JuptyerLab, and to play with the collaborative features of Jupyter while doing so.\n",
    "\n",
    "* [MyST Demo notebook](myst_demo.ipynb)\n",
    "* [MyST example mardkown file](shared-notes.md)\n",
    "* [Simple TeX document](main.tex)"
   ]
  },
  {
   "cell_type": "markdown",
   "id": "0e601c56-67a6-4c90-8557-6dd624605b4a",
   "metadata": {},
   "source": [
    "You can see myst in action by converting any of these documents to live HTML or PDF. For example, open a terminal and run\n",
    "\n",
    "```\n",
    "myst build shared-notes.md\n",
    "```\n",
    "\n",
    "which will put in the `_build/exports` folder both a PDF and a Word export.\n",
    "\n",
    "And if you are running this example with the JupyterLab collaboration features turned on, you can run  `pdflatex main` in the terminal, open the resulting PDF next to the TeX file, and have an overleaf-type workflow that combines collaboration and actual computation (since you can both run code in notebooks, and attach a console to the TeX file)."
   ]
  },
  {
   "cell_type": "code",
   "execution_count": null,
   "id": "3042a793-aef2-487f-987f-075551301c19",
   "metadata": {},
   "outputs": [],
   "source": []
  }
 ],
 "metadata": {
  "kernelspec": {
   "display_name": "Python 3 (ipykernel)",
   "language": "python",
   "name": "python3"
  },
  "language_info": {
   "codemirror_mode": {
    "name": "ipython",
    "version": 3
   },
   "file_extension": ".py",
   "mimetype": "text/x-python",
   "name": "python",
   "nbconvert_exporter": "python",
   "pygments_lexer": "ipython3",
   "version": "3.10.9"
  }
 },
 "nbformat": 4,
 "nbformat_minor": 5
}
