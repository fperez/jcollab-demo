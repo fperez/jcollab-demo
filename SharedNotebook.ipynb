{
 "cells": [
  {
   "cell_type": "markdown",
   "id": "ced03655-de58-4145-a545-4e15f18ea04e",
   "metadata": {},
   "source": [
    "# My new story\n",
    "\n",
    "_[Fernando Pérez](mailto:fernando.perez@berkeley.edu)_\n",
    "\n",
    "MyST (Markedly Structured Text) is designed to create publication-quality documents\n",
    "written entirely in Markdown. The markup and publishing build system is fantastic,\n",
    "MyST seamlessly exports to any PDF template, while collecting metadata to make your\n",
    "writing process as easy as possible.\n"
   ]
  },
  {
   "cell_type": "markdown",
   "id": "37b90145-025a-4eb6-9d64-bcd531cc5ed9",
   "metadata": {},
   "source": [
    "# A new Markdown file\n",
    "\n",
    "A little list with checkboxes:\n",
    "\n",
    "- [ ] Test item\n",
    "- [ ] Item 2\n",
    "\n",
    "Testing links: http://google.com\n",
    "\n",
    "Math works:\n",
    "\n",
    "$$\n",
    "x+\\alpha\n",
    "$$\n",
    "\n",
    "And code: \n",
    "\n",
    "```python\n",
    "def foo(bar):\n",
    "\treturn bar\n",
    "\n",
    "foo(\"asd\")\n",
    "```"
   ]
  },
  {
   "cell_type": "code",
   "execution_count": null,
   "id": "d2c7b5b5-a6be-4bfc-80ae-67b6f055335a",
   "metadata": {},
   "outputs": [],
   "source": []
  }
 ],
 "metadata": {
  "kernelspec": {
   "display_name": "Python 3 (ipykernel)",
   "language": "python",
   "name": "python3"
  },
  "language_info": {
   "codemirror_mode": {
    "name": "ipython",
    "version": 3
   },
   "file_extension": ".py",
   "mimetype": "text/x-python",
   "name": "python",
   "nbconvert_exporter": "python",
   "pygments_lexer": "ipython3",
   "version": "3.10.9"
  }
 },
 "nbformat": 4,
 "nbformat_minor": 5
}
